{
  "nbformat": 4,
  "nbformat_minor": 0,
  "metadata": {
    "colab": {
      "provenance": [],
      "collapsed_sections": []
    },
    "kernelspec": {
      "name": "python3",
      "display_name": "Python 3"
    },
    "language_info": {
      "name": "python"
    }
  },
  "cells": [
    {
      "cell_type": "markdown",
      "source": [
        "EXERCISE: A travel company wants to fly a plane to the Bahamas. Flying the plane costs 5000 dollars. So far, 29 people have signed up for the trip. If the company charges 200 dollars per ticket, what is the profit made by the company? Create variables for each numeric quantity and use appropriate arithmetic operations."
      ],
      "metadata": {
        "id": "kcY5-g81JkrH"
      }
    },
    {
      "cell_type": "code",
      "execution_count": null,
      "metadata": {
        "colab": {
          "base_uri": "https://localhost:8080/"
        },
        "id": "A71WMWlKBt4D",
        "outputId": "602aea48-0e6e-4b55-b948-d7f4fc43fa8b"
      },
      "outputs": [
        {
          "output_type": "stream",
          "name": "stdout",
          "text": [
            "800\n"
          ]
        }
      ],
      "source": [
        "plane_cost=5000\n",
        "no_of_people=29\n",
        "cost_per_ticket=200\n",
        "profit=(no_of_people*ticket)-cost\n",
        "print(profit)"
      ]
    },
    {
      "cell_type": "markdown",
      "source": [
        "Concept of a conditional statement or a set of conditional statements and cases : Write a code snippet which evaluates whether a number is a multiple of just 2 , just 3 , or both 2 and 3 (multiple of 6)"
      ],
      "metadata": {
        "id": "Gso3bz8dJreo"
      }
    },
    {
      "cell_type": "code",
      "source": [
        "num=12\n",
        "if num%2==0 and num%3==0:\n",
        "  print(\"Multiple of 2 and 3\")\n",
        "elif num%3==0:\n",
        "  print(\"Multiple of 3\")\n",
        "elif num%2==0:\n",
        "  print(\"Multiple of 2\")\n",
        "else :\n",
        "  print(\"Not a Multiple of 2 or 3\")"
      ],
      "metadata": {
        "colab": {
          "base_uri": "https://localhost:8080/"
        },
        "id": "73uhwkDqE8r4",
        "outputId": "eb8f9655-81a3-4767-b4de-32c6aa8c0ccc"
      },
      "execution_count": null,
      "outputs": [
        {
          "output_type": "stream",
          "name": "stdout",
          "text": [
            "Multiple of 2 and 3\n"
          ]
        }
      ]
    },
    {
      "cell_type": "markdown",
      "source": [
        "Concept of loops: Write a program to count the number of vowels in the given string: ANTIESTABLISHMENTARIANISTICALLY"
      ],
      "metadata": {
        "id": "ZdbvODnMKGdG"
      }
    },
    {
      "cell_type": "code",
      "source": [
        "str=\"ANTIESTABLISHMENTARIANISTICALLY\"\n",
        "count=0\n",
        "for i in str :\n",
        "      if i=='A' or i=='E' or i=='I' or i=='O' or i=='U' :\n",
        "        count=count+1\n",
        "  \n",
        "print(\"No of vowels\",count)"
      ],
      "metadata": {
        "colab": {
          "base_uri": "https://localhost:8080/"
        },
        "id": "ArEmNUh5HHju",
        "outputId": "948aca13-870c-4aab-8c88-ede1a2d4ff9d"
      },
      "execution_count": null,
      "outputs": [
        {
          "output_type": "stream",
          "name": "stdout",
          "text": [
            "No of vowels 12\n"
          ]
        }
      ]
    },
    {
      "cell_type": "code",
      "source": [
        "#Define a random list of fruits \n",
        "lst=['Apple','Mango','Orange','Banana','Kiwi']\n",
        "\n",
        "#iterate over the list and find the name of the fruit which has the smallest word length\n",
        "min=30\n",
        "for i in lst:\n",
        "  if len(i)<min:\n",
        "    min=len(i)\n",
        "    res=i\n",
        "print(\"Smallest word:\",res)\n",
        "\n",
        "# append a fruit to your existing list\n",
        "lst.append(\"Grapes\")\n",
        "print(lst)\n",
        "\n",
        "# find the size of your list\n",
        "length=len(lst)\n",
        "print(\"Length of list is:\",length)\n",
        "\n",
        "# delete the 2nd fruit(1st index) from your list:\n",
        "x=lst.pop(1)\n",
        "print(\"Deleted element is:\",x)\n",
        "\n",
        "# add your name in the 4th position of the list (3rd index)\n",
        "lst.insert(3,\"Anika\")\n",
        "print(lst)\n",
        "\n",
        "\n",
        "\n",
        "\n",
        "\n",
        "  "
      ],
      "metadata": {
        "colab": {
          "base_uri": "https://localhost:8080/"
        },
        "id": "HeN3Sj5HHS3x",
        "outputId": "8e60700d-a3ac-4e6b-f0b4-3e50455a5f23"
      },
      "execution_count": 4,
      "outputs": [
        {
          "output_type": "stream",
          "name": "stdout",
          "text": [
            "Smallest word: Kiwi\n",
            "['Apple', 'Mango', 'Orange', 'Banana', 'Kiwi', 'Grapes']\n",
            "Length of list is: 6\n",
            "Deleted element is: Mango\n",
            "['Apple', 'Orange', 'Banana', 'Anika', 'Kiwi', 'Grapes']\n"
          ]
        }
      ]
    },
    {
      "cell_type": "code",
      "source": [
        "#create abd tuple and print its elements \n",
        "tpl = (\"apple\",7, 1.5)\n",
        "print(tpl)\n",
        "\n",
        "#print the type of each value in the tuple\n",
        "for i in tpl:\n",
        "  print(\"Type of \",i,\":\",type(i))\n",
        "\n",
        "#try to change the seconf value in your tuple to \"Caterpillar\"\n",
        "#Tuples are immutable\n",
        "\n",
        "# print the last element of the tuple without using the length of the tuple\n",
        "print(\"Last element is:\",tpl[-1])\n",
        "\n",
        "# slicing is an IMPORTANT concept in python especially since you will all be working on huge amounts of data so try different options \n",
        "# print(a[-2:]), print([:3]) etc...\n",
        "print(tpl[-2:])\n",
        "print(tpl[:3])\n",
        "\n",
        "#sort vs sorted function: find the difference in the form of a program:\n",
        "# sort() function is used with lists and it has no return type while sorted() function can be used with lists,tuples,set,etc and returns a list of sorted values\n",
        "tpl1=(12,34,2,23,10)\n",
        "print(\"Sorted tuple:\",sorted(tpl1))\n",
        "\n",
        "\n",
        "\n",
        "\n",
        "\n"
      ],
      "metadata": {
        "colab": {
          "base_uri": "https://localhost:8080/"
        },
        "id": "TrQiKrj5LjSg",
        "outputId": "85893d44-5884-452f-ecee-89c50c20d2f9"
      },
      "execution_count": 13,
      "outputs": [
        {
          "output_type": "stream",
          "name": "stdout",
          "text": [
            "('apple', 7, 1.5)\n",
            "Type of  apple : <class 'str'>\n",
            "Type of  7 : <class 'int'>\n",
            "Type of  1.5 : <class 'float'>\n",
            "Last element is: 1.5\n",
            "(7, 1.5)\n",
            "('apple', 7, 1.5)\n",
            "Sorted tuple: [2, 10, 12, 23, 34]\n"
          ]
        }
      ]
    },
    {
      "cell_type": "markdown",
      "source": [
        "Ana is a data-scientist who just started her career in Meta, however she needs to find the existance of new words on facebook hashtags and find the numbre of unique such words which need to be added to the existing facebook hastag library:\n",
        "\n",
        "facebook hastag library : [\"ootd\", \"lol\", \"ffs\", \"asap\"] daily facebook hastag words string: \" rofl lol macha bob ootd asap fun sweet16 ffs lol asap ootd ffs macha rofl bob ootd fun candid anime happyhours bob fun happyhours\" You will need to indivitually extract the words from the string and then solve this problem ?? How are you going to do that ?"
      ],
      "metadata": {
        "id": "-OiZKoJoOQXV"
      }
    },
    {
      "cell_type": "code",
      "source": [
        "txt=\"rofl lol macha bob ootd asap fun sweet16 ffs lol asap ootd ffs macha rofl bob ootd fun candid anime happyhours bob fun happyhours\"\n",
        "x=set(txt.split(\" \"))\n",
        "print(x)\n",
        "print(\"No of unique words which need to be added are:\",len(x))"
      ],
      "metadata": {
        "colab": {
          "base_uri": "https://localhost:8080/"
        },
        "id": "O0NGfI_gOqpp",
        "outputId": "3587b2e5-be15-490a-b4c8-a9ca737a4e3d"
      },
      "execution_count": 15,
      "outputs": [
        {
          "output_type": "stream",
          "name": "stdout",
          "text": [
            "{'anime', 'candid', 'ffs', 'asap', 'lol', 'fun', 'rofl', 'macha', 'bob', 'happyhours', 'sweet16', 'ootd'}\n",
            "No of unique words which need to be added are: 12\n"
          ]
        }
      ]
    },
    {
      "cell_type": "markdown",
      "source": [
        "Given an unsorted list of some elements(may or may not be integers), Find the frequency of each distinct element in the list using a dictionary. Input : [1, 1, 1, 5, 5, 3, 1, 3, 3, 1, 4, 4, 4, 2, 2, 2, 2]\n",
        "\n",
        "Output : 1 : 5 2 : 4 3 : 3 4 : 3 5 : 2"
      ],
      "metadata": {
        "id": "HO6v6YArO8tK"
      }
    },
    {
      "cell_type": "code",
      "source": [
        "def CountFrequency(my_list):\n",
        " \n",
        "    # Creating an empty dictionary\n",
        "    freq = {}\n",
        "    #------fill your code here-----------------\n",
        "    for i in lst2:\n",
        "      if(i in freq):\n",
        "       freq[i]+=1\n",
        "      else:\n",
        "       freq[i]=1\n",
        "    print(freq)\n",
        "    \n",
        "# Driver function\n",
        "if __name__ == \"__main__\":\n",
        "    my_list =[1, 1, 1, 5, 5, 3, 1, 3, 3, 1, 4, 4, 4, 2, 2, 2, 2]\n",
        " \n",
        "    CountFrequency(my_list)\n",
        "\n"
      ],
      "metadata": {
        "colab": {
          "base_uri": "https://localhost:8080/"
        },
        "id": "-uJfGWUFO7lS",
        "outputId": "d5065b97-a496-444c-80b9-56d629395189"
      },
      "execution_count": 23,
      "outputs": [
        {
          "output_type": "stream",
          "name": "stdout",
          "text": [
            "{1: 5, 5: 2, 3: 3, 4: 3, 2: 4}\n"
          ]
        }
      ]
    }
  ]
}